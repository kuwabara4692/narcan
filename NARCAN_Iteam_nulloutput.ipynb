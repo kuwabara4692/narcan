{
 "cells": [
  {
   "cell_type": "code",
   "execution_count": null,
   "metadata": {},
   "outputs": [],
   "source": [
    "# All .xls files were converted to .csv prior to be imported here.\n",
    "# Next we will convert the csv files into dataframes for further processing below.\n",
    "# A test run of this method was done using April 2018 Narcan data from Peoria FD and PD.\n",
    "# A final run of this method(located further below) was done to include ALL datasets containing April 2018 Narcan data.\n",
    "\n",
    "\n",
    "#import necessary libraries\n",
    "import pandas as pd\n",
    "\n",
    "#Read our csv file into pandas for manipulation\n",
    "peoriafire_prep =pd.read_csv(\"D:/GIS_DATA/NARCAN_Iteam/csvfiles/peoria_fire_april2018.csv\")\n",
    "#View our csv file for observations; showing rows 0 - 20\n",
    "peoriafire_prep[0:20]\n",
    "#Next we will create a dataframe containing only the rows we define as relevant, below."
   ]
  },
  {
   "cell_type": "code",
   "execution_count": null,
   "metadata": {},
   "outputs": [],
   "source": [
    "#Create a dataframe called \"peoriafire\" containing only relevent rows, in this case 0-16\n",
    "peoriafire = pd.DataFrame(peoriafire_prep[0:17])\n",
    "peoriafire"
   ]
  },
  {
   "cell_type": "code",
   "execution_count": null,
   "metadata": {},
   "outputs": [],
   "source": [
    "#Read in our peoriapd dataset from a csv and view the relevant columns\n",
    "peoriapd_prep =pd.read_csv(\"D:/GIS_DATA/NARCAN_Iteam/csvfiles/peoria_pd_april2018.csv\")\n",
    "peoriapd_prep\n",
    "# We can see the rows with relevant information are the top 6, we will select those rows\n",
    "peoriapd_prep[0:6]"
   ]
  },
  {
   "cell_type": "code",
   "execution_count": null,
   "metadata": {},
   "outputs": [],
   "source": [
    "#Create dataframe from the rows we chose as relevent from peoriapd dataset\n",
    "peoriapd=pd.DataFrame(peoriapd_prep[0:6])\n",
    "peoriapd"
   ]
  },
  {
   "cell_type": "code",
   "execution_count": null,
   "metadata": {},
   "outputs": [],
   "source": [
    "# We will combine dataframes using pd.concat, then\n",
    "# reset our index using df.reset_index. We prefer not\n",
    "# to save the index as a column so drop=True.\n",
    "peoria_narcan_test = pd.concat([peoriafire, peoriapd])\n",
    "peoria_narcan_test\n",
    "peoria_pd_fire = peoria_narcan_test.reset_index(drop=True)\n",
    "peoria_pd_fire"
   ]
  },
  {
   "cell_type": "code",
   "execution_count": null,
   "metadata": {},
   "outputs": [],
   "source": [
    "# We will rename and drop columns from our dataframe, \n",
    "# but we need to see what the names are according to pandas.\n",
    "list(peoria_pd_fire)"
   ]
  },
  {
   "cell_type": "code",
   "execution_count": null,
   "metadata": {},
   "outputs": [],
   "source": [
    "#Rename our column names(column headers) using df.rename(columns={'old':'new'}, inplace=True)\n",
    "peoria_pd_fire.rename(columns={'Total mg used (ex. 0.4mg, 2mg) ':'Total mg used', \"Responding Location Name (ex. OSF, McDonald's, etc.)\":'Responding Location Name', 'Gender (M/F)':'Gender', 'Test':'Race', 'Age Range (19 and under, 20-29,30-39, 40-49, 50-59, 60-69, 70 and up)':'Age Range', 'Agency that administered Narcan (ex. AMT, Peori Fire)':'Agency', 'Date of Reversal':'Date', 'Treatment Success':'Overdosed Successfully Reversed', 'Repeat User (Y/N)':'Repeat User', 'Residing Zip Code (zip code of user)':'Residing Zip Code', 'Total mg used (ex. 0.4mg, 2mg)':'Total mg used', 'Responding Zip Code (zip code where narcan was used)':'Responding Zip Code'}, inplace=True)\n",
    "peoria_pd_fire"
   ]
  },
  {
   "cell_type": "code",
   "execution_count": null,
   "metadata": {},
   "outputs": [],
   "source": [
    "# We will drop the column \"Unnammed: 0\" from our dataframe\n",
    "peoria_pd_fire.drop(['Unnamed: 0'], axis=1, inplace=True)\n",
    "peoria_pd_fire"
   ]
  },
  {
   "cell_type": "code",
   "execution_count": null,
   "metadata": {},
   "outputs": [],
   "source": [
    "# Attempt to clean up column \"Total mg used\" by removing \"mg\" from values.\n",
    "peoria_pd_fire['Total mg used'] = peoria_pd_fire['Total mg used'].map(lambda x: x.lstrip('').rstrip('mg'))\n",
    "peoria_pd_fire\n"
   ]
  },
  {
   "cell_type": "code",
   "execution_count": null,
   "metadata": {},
   "outputs": [],
   "source": [
    "# We export our dataframe to a csv file.\n",
    "filepath = 'C:\\\\Users\\\\ckohler\\\\Desktop\\\\testfolder\\\\'\n",
    "peoria_pd_fire.to_csv(filepath + 'peoria_pd_fire_join.csv')\n",
    "print('Done')"
   ]
  },
  {
   "cell_type": "code",
   "execution_count": null,
   "metadata": {},
   "outputs": [],
   "source": [
    "# Combining more than two dataset(only including data reported from April 2018)\n",
    "\n",
    "# West Peoria fire departments csv\n",
    "wp_fire_april18_read = pd.read_csv(\"D:/GIS_DATA/NARCAN_Iteam/csvfiles/West Peoria Fire Department Narcan Data April 2018.csv\")\n",
    "wp_fire_april18_prep=wp_fire_april18_read[0:1]\n",
    "wp_fire_april18=pd.DataFrame(wp_fire_april18_prep)\n",
    "wp_fire_april18\n",
    "# Note: In this file we found only one row of information"
   ]
  },
  {
   "cell_type": "code",
   "execution_count": null,
   "metadata": {},
   "outputs": [],
   "source": [
    "# AMT csv\n",
    "AMT_april18_read = pd.read_csv(\"D:/GIS_DATA/NARCAN_Iteam/csvfiles/AMT Narcan Data April 2018.csv\")\n",
    "AMT_april18_prep=AMT_april18_read[0:34]\n",
    "AMT_april18=pd.DataFrame(AMT_april18_prep)\n",
    "AMT_april18"
   ]
  },
  {
   "cell_type": "code",
   "execution_count": null,
   "metadata": {},
   "outputs": [],
   "source": [
    "# East Peoria Fire Department csv\n",
    "EPfd_april18_read = pd.read_csv(\"D:/GIS_DATA/NARCAN_Iteam/csvfiles/East Peoria Fire Department Narcan Data April.csv\")\n",
    "EPfd_april18_prep=EPfd_april18_read[0:5]\n",
    "EPfd_april18=pd.DataFrame(EPfd_april18_prep)\n",
    "EPfd_april18\n",
    "# Note: Column names in this file are the most inconsistent, however we can still manage the column names to fit."
   ]
  },
  {
   "cell_type": "code",
   "execution_count": null,
   "metadata": {},
   "outputs": [],
   "source": [
    "# OSF ED Narcan csv\n",
    "OSFED_april18_read = pd.read_csv(\"D:/GIS_DATA/NARCAN_Iteam/csvfiles/OSF ED Narcan data April 2018.csv\")\n",
    "OSFED_april18_prep=OSFED_april18_read[0:14]\n",
    "OSFED_april18=pd.DataFrame(OSFED_april18_prep)\n",
    "OSFED_april18\n"
   ]
  },
  {
   "cell_type": "code",
   "execution_count": null,
   "metadata": {},
   "outputs": [],
   "source": [
    "#Finally we will combine all the datasets loaded into this Py3 File.\n",
    "# Final April 2018 Narcan Datasets merged (6): Peoria FD, Peoria PD, East Peoria FD, OSF ED, AMT, West Peoria FD."
   ]
  },
  {
   "cell_type": "code",
   "execution_count": null,
   "metadata": {},
   "outputs": [],
   "source": [
    "# We will use peoriapd, peoriafire dataframes seperately\n",
    "# instead of peoria_pd_fire, in order to maintain consistency \n",
    "# with column names for the sake of merging.\n",
    "# Dataframes for Merging: peoriapd, peoriafire, OSFED_april18, AMT_april18, EPfd_april18, wp_fire_april18.\n",
    "# EPfd_april18 will require column name reassignment and be merged last."
   ]
  },
  {
   "cell_type": "code",
   "execution_count": null,
   "metadata": {},
   "outputs": [],
   "source": [
    "narcan_merge_1 = pd.concat([peoriafire, peoriapd])\n",
    "narcan_merge_1"
   ]
  },
  {
   "cell_type": "code",
   "execution_count": null,
   "metadata": {},
   "outputs": [],
   "source": [
    "len(OSFED_april18.index)\n",
    "OSFED_april18"
   ]
  },
  {
   "cell_type": "code",
   "execution_count": null,
   "metadata": {
    "scrolled": true
   },
   "outputs": [],
   "source": [
    "narcan_merge_2 = pd.concat([narcan_merge_1, OSFED_april18])\n",
    "len(narcan_merge_2)\n",
    "narcan_merge_2"
   ]
  },
  {
   "cell_type": "code",
   "execution_count": null,
   "metadata": {},
   "outputs": [],
   "source": [
    "narcan_merge_3 = pd.concat([narcan_merge_2, AMT_april18])\n",
    "narcan_merge_3"
   ]
  },
  {
   "cell_type": "code",
   "execution_count": null,
   "metadata": {},
   "outputs": [],
   "source": [
    "narcan_merge_4 = pd.concat([narcan_merge_3, wp_fire_april18])\n",
    "narcan_merge_4"
   ]
  },
  {
   "cell_type": "code",
   "execution_count": null,
   "metadata": {},
   "outputs": [],
   "source": [
    "#Change column names of \"narcan_merge_4\"\n",
    "narcan_merge_4.rename(columns={'Total mg used (ex. 0.4mg, 2mg) ':'Total mg used', \"Responding Location Name (ex. OSF, McDonald's, etc.)\":'Responding Location Name', 'Gender (M/F)':'Gender', 'Test':'Race', 'Age Range (19 and under, 20-29,30-39, 40-49, 50-59, 60-69, 70 and up)':'Age Range', 'Agency that administered Narcan (ex. AMT, Peori Fire)':'Agency', 'Date of Reversal':'Date', 'Treatment Success':'Overdosed Successfully Reversed', 'Repeat User (Y/N)':'Repeat User', 'Residing Zip Code (zip code of user)':'Residing Zip Code', 'Total mg used (ex. 0.4mg, 2mg)':'Total mg used', 'Responding Zip Code (zip code where narcan was used)':'Responding Zip Code'}, inplace=True)\n",
    "narcan_merge_4"
   ]
  },
  {
   "cell_type": "code",
   "execution_count": null,
   "metadata": {},
   "outputs": [],
   "source": [
    "#Change column names to be exactly the same, of both \"narcan_merge_4\" and \"EPfd_april18\" to align data during merge.\n",
    "EPfd_april18.rename(columns={'Dosage':'Total mg used', 'Patient Race':'Race', 'Repeat Patient?':'Repeat User', 'Postal Code':'Residing Zip Code', 'Administered Date Time':'Date of Reversal'}, inplace=True)\n",
    "\n",
    "EPfd_april18"
   ]
  },
  {
   "cell_type": "code",
   "execution_count": null,
   "metadata": {},
   "outputs": [],
   "source": [
    "narcan_merge_5 = pd.concat([narcan_merge_4, EPfd_april18])\n",
    "narcan_merge_5"
   ]
  },
  {
   "cell_type": "code",
   "execution_count": null,
   "metadata": {},
   "outputs": [],
   "source": [
    "narcan_april18 = narcan_merge_5.reset_index(drop=True)\n",
    "narcan_april18"
   ]
  },
  {
   "cell_type": "code",
   "execution_count": null,
   "metadata": {},
   "outputs": [],
   "source": [
    "# We will drop the column \"Unnammed: 0\" from our dataframe\n",
    "narcan_april18.drop(['Unnamed: 0'], axis=1, inplace=True)\n",
    "narcan_april18"
   ]
  },
  {
   "cell_type": "code",
   "execution_count": null,
   "metadata": {},
   "outputs": [],
   "source": [
    "# Attempt to clean up column \"Total mg used\" by removing \"mg\" from values.\n",
    "narcan_april18['Total mg used'] = narcan_april18['Total mg used'].astype('str')\n",
    "narcan_april18['Total mg used'] = narcan_april18['Total mg used'].map(lambda x: x.lstrip('').rstrip('mg'))\n",
    "narcan_april18"
   ]
  },
  {
   "cell_type": "code",
   "execution_count": null,
   "metadata": {},
   "outputs": [],
   "source": [
    "# We export our april 2018 merged dataframe to a csv file.\n",
    "filepath = 'C:\\\\Users\\\\ckohler\\\\Desktop\\\\testfolder\\\\'\n",
    "narcan_april18.to_csv(filepath + 'narcan_april18.csv')\n",
    "print('Done')"
   ]
  }
 ],
 "metadata": {
  "kernelspec": {
   "display_name": "Python 3",
   "language": "python",
   "name": "python3"
  },
  "language_info": {
   "codemirror_mode": {
    "name": "ipython",
    "version": 3
   },
   "file_extension": ".py",
   "mimetype": "text/x-python",
   "name": "python",
   "nbconvert_exporter": "python",
   "pygments_lexer": "ipython3",
   "version": "3.6.5"
  }
 },
 "nbformat": 4,
 "nbformat_minor": 2
}
